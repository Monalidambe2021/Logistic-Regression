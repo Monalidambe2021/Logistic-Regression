{
 "cells": [
  {
   "cell_type": "code",
   "execution_count": 1,
   "metadata": {
    "executionInfo": {
     "elapsed": 1103,
     "status": "ok",
     "timestamp": 1621507107611,
     "user": {
      "displayName": "Monali Dambe",
      "photoUrl": "",
      "userId": "09026880642029004944"
     },
     "user_tz": -330
    },
    "id": "z5FrGqbYACu9"
   },
   "outputs": [],
   "source": [
    " #import the files\n",
    "import pandas as pd"
   ]
  },
  {
   "cell_type": "code",
   "execution_count": 2,
   "metadata": {
    "executionInfo": {
     "elapsed": 1311,
     "status": "ok",
     "timestamp": 1621507111772,
     "user": {
      "displayName": "Monali Dambe",
      "photoUrl": "",
      "userId": "09026880642029004944"
     },
     "user_tz": -330
    },
    "id": "SBtf2T4iI2Pd"
   },
   "outputs": [],
   "source": [
    " #load the data\n",
    "df=pd.read_csv('../Datasets/iris.csv')"
   ]
  },
  {
   "cell_type": "code",
   "execution_count": 3,
   "metadata": {
    "colab": {
     "base_uri": "https://localhost:8080/",
     "height": 206
    },
    "executionInfo": {
     "elapsed": 906,
     "status": "ok",
     "timestamp": 1621507114025,
     "user": {
      "displayName": "Monali Dambe",
      "photoUrl": "",
      "userId": "09026880642029004944"
     },
     "user_tz": -330
    },
    "id": "gNAKeVOOI97h",
    "outputId": "b8d2b951-c6fa-4d05-a3eb-26b3890a38da"
   },
   "outputs": [
    {
     "data": {
      "text/html": [
       "<div>\n",
       "<style scoped>\n",
       "    .dataframe tbody tr th:only-of-type {\n",
       "        vertical-align: middle;\n",
       "    }\n",
       "\n",
       "    .dataframe tbody tr th {\n",
       "        vertical-align: top;\n",
       "    }\n",
       "\n",
       "    .dataframe thead th {\n",
       "        text-align: right;\n",
       "    }\n",
       "</style>\n",
       "<table border=\"1\" class=\"dataframe\">\n",
       "  <thead>\n",
       "    <tr style=\"text-align: right;\">\n",
       "      <th></th>\n",
       "      <th>x0</th>\n",
       "      <th>x1</th>\n",
       "      <th>x2</th>\n",
       "      <th>x3</th>\n",
       "      <th>x4</th>\n",
       "      <th>type</th>\n",
       "    </tr>\n",
       "  </thead>\n",
       "  <tbody>\n",
       "    <tr>\n",
       "      <th>0</th>\n",
       "      <td>1</td>\n",
       "      <td>5.1</td>\n",
       "      <td>3.5</td>\n",
       "      <td>1.4</td>\n",
       "      <td>0.2</td>\n",
       "      <td>Iris-setosa</td>\n",
       "    </tr>\n",
       "    <tr>\n",
       "      <th>1</th>\n",
       "      <td>1</td>\n",
       "      <td>4.9</td>\n",
       "      <td>3.0</td>\n",
       "      <td>1.4</td>\n",
       "      <td>0.2</td>\n",
       "      <td>Iris-setosa</td>\n",
       "    </tr>\n",
       "    <tr>\n",
       "      <th>2</th>\n",
       "      <td>1</td>\n",
       "      <td>4.7</td>\n",
       "      <td>3.2</td>\n",
       "      <td>1.3</td>\n",
       "      <td>0.2</td>\n",
       "      <td>Iris-setosa</td>\n",
       "    </tr>\n",
       "    <tr>\n",
       "      <th>3</th>\n",
       "      <td>1</td>\n",
       "      <td>4.6</td>\n",
       "      <td>3.1</td>\n",
       "      <td>1.5</td>\n",
       "      <td>0.2</td>\n",
       "      <td>Iris-setosa</td>\n",
       "    </tr>\n",
       "    <tr>\n",
       "      <th>4</th>\n",
       "      <td>1</td>\n",
       "      <td>5.0</td>\n",
       "      <td>3.6</td>\n",
       "      <td>1.4</td>\n",
       "      <td>0.2</td>\n",
       "      <td>Iris-setosa</td>\n",
       "    </tr>\n",
       "  </tbody>\n",
       "</table>\n",
       "</div>"
      ],
      "text/plain": [
       "   x0   x1   x2   x3   x4         type\n",
       "0   1  5.1  3.5  1.4  0.2  Iris-setosa\n",
       "1   1  4.9  3.0  1.4  0.2  Iris-setosa\n",
       "2   1  4.7  3.2  1.3  0.2  Iris-setosa\n",
       "3   1  4.6  3.1  1.5  0.2  Iris-setosa\n",
       "4   1  5.0  3.6  1.4  0.2  Iris-setosa"
      ]
     },
     "execution_count": 3,
     "metadata": {},
     "output_type": "execute_result"
    }
   ],
   "source": [
    "df.head()"
   ]
  },
  {
   "cell_type": "code",
   "execution_count": 4,
   "metadata": {
    "executionInfo": {
     "elapsed": 1402,
     "status": "ok",
     "timestamp": 1621507117532,
     "user": {
      "displayName": "Monali Dambe",
      "photoUrl": "",
      "userId": "09026880642029004944"
     },
     "user_tz": -330
    },
    "id": "iKtCNazaQewv"
   },
   "outputs": [],
   "source": [
    "X=df[['x1','x2','x3','x4']] # independent variables\n",
    "y=df['type'] #dependent variable"
   ]
  },
  {
   "cell_type": "code",
   "execution_count": 5,
   "metadata": {
    "executionInfo": {
     "elapsed": 1181,
     "status": "ok",
     "timestamp": 1621507120767,
     "user": {
      "displayName": "Monali Dambe",
      "photoUrl": "",
      "userId": "09026880642029004944"
     },
     "user_tz": -330
    },
    "id": "bMR7CcZfQxCu"
   },
   "outputs": [],
   "source": [
    " # split data into train & test data\n",
    "from sklearn.model_selection import train_test_split"
   ]
  },
  {
   "cell_type": "code",
   "execution_count": 6,
   "metadata": {
    "executionInfo": {
     "elapsed": 1097,
     "status": "ok",
     "timestamp": 1621507123674,
     "user": {
      "displayName": "Monali Dambe",
      "photoUrl": "",
      "userId": "09026880642029004944"
     },
     "user_tz": -330
    },
    "id": "7GhyEEReRWI_"
   },
   "outputs": [],
   "source": [
    "X_train,X_test,y_train,y_test=train_test_split(X,y,test_size=0.20,random_state=42)"
   ]
  },
  {
   "cell_type": "code",
   "execution_count": 7,
   "metadata": {
    "colab": {
     "base_uri": "https://localhost:8080/"
    },
    "executionInfo": {
     "elapsed": 1053,
     "status": "ok",
     "timestamp": 1621507126496,
     "user": {
      "displayName": "Monali Dambe",
      "photoUrl": "",
      "userId": "09026880642029004944"
     },
     "user_tz": -330
    },
    "id": "tKDxRfNwRqNg",
    "outputId": "e8e5c7e6-8455-452a-f0c9-8f31d2518b6e"
   },
   "outputs": [
    {
     "data": {
      "text/plain": [
       "(120, 4)"
      ]
     },
     "execution_count": 7,
     "metadata": {},
     "output_type": "execute_result"
    }
   ],
   "source": [
    "X_train.shape"
   ]
  },
  {
   "cell_type": "code",
   "execution_count": 8,
   "metadata": {
    "colab": {
     "base_uri": "https://localhost:8080/"
    },
    "executionInfo": {
     "elapsed": 903,
     "status": "ok",
     "timestamp": 1621507129081,
     "user": {
      "displayName": "Monali Dambe",
      "photoUrl": "",
      "userId": "09026880642029004944"
     },
     "user_tz": -330
    },
    "id": "6xpemuS_R8Aw",
    "outputId": "ef8a4cd7-e4fc-435b-ced1-1e7b18b4432b"
   },
   "outputs": [
    {
     "data": {
      "text/plain": [
       "(120,)"
      ]
     },
     "execution_count": 8,
     "metadata": {},
     "output_type": "execute_result"
    }
   ],
   "source": [
    "y_train.shape"
   ]
  },
  {
   "cell_type": "code",
   "execution_count": 9,
   "metadata": {
    "executionInfo": {
     "elapsed": 1034,
     "status": "ok",
     "timestamp": 1621507131618,
     "user": {
      "displayName": "Monali Dambe",
      "photoUrl": "",
      "userId": "09026880642029004944"
     },
     "user_tz": -330
    },
    "id": "_wzMhdg7R-0Q"
   },
   "outputs": [],
   "source": [
    " # scale down the data\n",
    "from sklearn.preprocessing import MinMaxScaler"
   ]
  },
  {
   "cell_type": "code",
   "execution_count": 10,
   "metadata": {
    "executionInfo": {
     "elapsed": 1387,
     "status": "ok",
     "timestamp": 1621507135128,
     "user": {
      "displayName": "Monali Dambe",
      "photoUrl": "",
      "userId": "09026880642029004944"
     },
     "user_tz": -330
    },
    "id": "YkCUg6KqS0VA"
   },
   "outputs": [],
   "source": [
    "scaler = MinMaxScaler ()\n",
    "scaler.fit(X_train)\n",
    "X_train_scaled=scaler.transform(X_train)"
   ]
  },
  {
   "cell_type": "code",
   "execution_count": 11,
   "metadata": {
    "executionInfo": {
     "elapsed": 1186,
     "status": "ok",
     "timestamp": 1621507154004,
     "user": {
      "displayName": "Monali Dambe",
      "photoUrl": "",
      "userId": "09026880642029004944"
     },
     "user_tz": -330
    },
    "id": "bJOgjiSTTVyW"
   },
   "outputs": [],
   "source": [
    " # train model\n",
    "from sklearn.linear_model import LogisticRegression"
   ]
  },
  {
   "cell_type": "code",
   "execution_count": 12,
   "metadata": {
    "colab": {
     "base_uri": "https://localhost:8080/"
    },
    "executionInfo": {
     "elapsed": 1249,
     "status": "ok",
     "timestamp": 1621507158163,
     "user": {
      "displayName": "Monali Dambe",
      "photoUrl": "",
      "userId": "09026880642029004944"
     },
     "user_tz": -330
    },
    "id": "clPwLEcmTpjQ",
    "outputId": "de8865b6-ffa2-4830-9723-acef24772a7b"
   },
   "outputs": [
    {
     "data": {
      "text/plain": [
       "LogisticRegression()"
      ]
     },
     "execution_count": 12,
     "metadata": {},
     "output_type": "execute_result"
    }
   ],
   "source": [
    "model=LogisticRegression ()\n",
    "model.fit(X_train_scaled,y_train)"
   ]
  },
  {
   "cell_type": "code",
   "execution_count": 13,
   "metadata": {
    "colab": {
     "base_uri": "https://localhost:8080/"
    },
    "executionInfo": {
     "elapsed": 1884,
     "status": "ok",
     "timestamp": 1621507187939,
     "user": {
      "displayName": "Monali Dambe",
      "photoUrl": "",
      "userId": "09026880642029004944"
     },
     "user_tz": -330
    },
    "id": "ejYMr73UUatC",
    "outputId": "40f6f298-bd6a-4362-fb27-4102bd114dd9"
   },
   "outputs": [
    {
     "data": {
      "text/plain": [
       "0.9666666666666667"
      ]
     },
     "execution_count": 13,
     "metadata": {},
     "output_type": "execute_result"
    }
   ],
   "source": [
    " #Evaluate model\n",
    "X_test_scaled=scaler.transform(X_test)\n",
    "model.score(X_test_scaled,y_test)"
   ]
  },
  {
   "cell_type": "code",
   "execution_count": null,
   "metadata": {},
   "outputs": [],
   "source": []
  }
 ],
 "metadata": {
  "colab": {
   "authorship_tag": "ABX9TyNjE/XN+JwqsMyW9KzS0xY8",
   "collapsed_sections": [],
   "mount_file_id": "1wr7IqWgS_VMrX09eggpXvH24IeWf6dkb",
   "name": "LOGISTIC_Regn.ipynb",
   "provenance": []
  },
  "kernelspec": {
   "display_name": "Python 3",
   "language": "python",
   "name": "python3"
  },
  "language_info": {
   "codemirror_mode": {
    "name": "ipython",
    "version": 3
   },
   "file_extension": ".py",
   "mimetype": "text/x-python",
   "name": "python",
   "nbconvert_exporter": "python",
   "pygments_lexer": "ipython3",
   "version": "3.8.8"
  }
 },
 "nbformat": 4,
 "nbformat_minor": 1
}
